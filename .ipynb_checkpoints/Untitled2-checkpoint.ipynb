{
 "cells": [
  {
   "cell_type": "code",
   "execution_count": null,
   "id": "4433eff0-e8dd-4f25-b16b-b12613f58b51",
   "metadata": {
    "tags": []
   },
   "outputs": [
    {
     "name": "stderr",
     "output_type": "stream",
     "text": [
      "2024-04-03 11:02:59.580172: W tensorflow/stream_executor/platform/default/dso_loader.cc:64] Could not load dynamic library 'libcudart.so.11.0'; dlerror: libcudart.so.11.0: cannot open shared object file: No such file or directory; LD_LIBRARY_PATH: /home/rneveux/local/lib:/home/rneveux/lib:/home/rneveux/cuba\n",
      "2024-04-03 11:02:59.580223: I tensorflow/stream_executor/cuda/cudart_stub.cc:29] Ignore above cudart dlerror if you do not have a GPU set up on your machine.\n"
     ]
    }
   ],
   "source": [
    "from classy import Class\n",
    "from matplotlib import pyplot as plt\n",
    "from fit_test import *\n",
    "from scipy.stats import gaussian_kde\n",
    "import matplotlib.lines as mlines\n",
    "import corner\n",
    "from getdist import plots, MCSamples\n",
    "import getdist\n",
    "%matplotlib inline\n",
    "%config InlineBackend.figure_format = 'retina'\n",
    "\n",
    "plt.rcParams['figure.figsize'] = [20, 12]"
   ]
  },
  {
   "cell_type": "code",
   "execution_count": null,
   "id": "8e2be3c1-32b9-4b47-8636-0c5f11c19fc8",
   "metadata": {},
   "outputs": [],
   "source": [
    "directory = '/home/rneveux/fit_results/Fake/z0.610/' #Pk_Bk_0_2_000_202_kmin1_kmaxpk22_kmaxbk10.state"
   ]
  }
 ],
 "metadata": {
  "kernelspec": {
   "display_name": "Python (cpt)",
   "language": "python",
   "name": "cpt"
  },
  "language_info": {
   "codemirror_mode": {
    "name": "ipython",
    "version": 3
   },
   "file_extension": ".py",
   "mimetype": "text/x-python",
   "name": "python",
   "nbconvert_exporter": "python",
   "pygments_lexer": "ipython3",
   "version": "3.9.13"
  }
 },
 "nbformat": 4,
 "nbformat_minor": 5
}
