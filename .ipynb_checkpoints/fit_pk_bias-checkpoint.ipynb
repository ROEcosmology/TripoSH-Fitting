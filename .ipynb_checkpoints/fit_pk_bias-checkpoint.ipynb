{
 "cells": [
  {
   "cell_type": "code",
   "execution_count": 1,
   "id": "4a515c40",
   "metadata": {},
   "outputs": [
    {
     "name": "stderr",
     "output_type": "stream",
     "text": [
      "2023-02-21 18:23:55.106561: W tensorflow/stream_executor/platform/default/dso_loader.cc:64] Could not load dynamic library 'libcudart.so.11.0'; dlerror: libcudart.so.11.0: cannot open shared object file: No such file or directory; LD_LIBRARY_PATH: /home/rneveux/local/lib:/home/rneveux/lib:/home/rneveux/cuba\n",
      "2023-02-21 18:23:55.106613: I tensorflow/stream_executor/cuda/cudart_stub.cc:29] Ignore above cudart dlerror if you do not have a GPU set up on your machine.\n"
     ]
    }
   ],
   "source": [
    "import os\n",
    "from classy import Class\n",
    "import numpy as np\n",
    "from matplotlib import pyplot as plt\n",
    "from fit import *\n",
    "import zeus"
   ]
  },
  {
   "cell_type": "code",
   "execution_count": 2,
   "id": "e99fa599",
   "metadata": {},
   "outputs": [],
   "source": [
    "estimator = ['Pk']\n",
    "multipoles = ['0',\n",
    "              '2','4'\n",
    "             ]\n",
    "cov_mock_nb = 2048\n",
    "k_edges = {'Pk':{'0':[.01,.15],\n",
    "                 '2':[.01,.15],'4':[.01,.15]\n",
    "                }}\n",
    "\n",
    "data_dir = '/home/rneveux/data/BOSS'\n",
    "name_file = {'Pk':{'0':os.path.join(data_dir,'BOSS_DR12_NGC_z3_mono.txt'),\n",
    "                   '2':os.path.join(data_dir,'BOSS_DR12_NGC_z3_quadru.txt'),\n",
    "                   '4':os.path.join(data_dir,'BOSS_DR12_NGC_z3_hexadeca.txt')\n",
    "                  }}\n",
    "cov_file = os.path.join(data_dir,'cov_2048_BOSS_DR12_NGC_z3.npy')\n",
    "window_file = os.path.join(data_dir,'W_BOSS_DR12_NGC_z3_V6C_1_1_1_1_1_10_200_200_averaged_v1.matrix')\n",
    "\n",
    "h_fid = .676\n",
    "omega_b_fid = .022\n",
    "omega_cdm_fid = .31*h_fid**2-omega_b_fid\n",
    "n_s_fid = .96\n",
    "lnA_s_fid = 3.013\n",
    "\n",
    "cosmo_fid = {\n",
    "            'output': 'mPk',\n",
    "            'h': h_fid,\n",
    "            'omega_b': omega_b_fid,\n",
    "            'omega_cdm': omega_cdm_fid,\n",
    "            'n_s': n_s_fid,\n",
    "            'ln10^{10}A_s': lnA_s_fid,\n",
    "            'tau_reio': 0.0544,\n",
    "            'N_ncdm': 1.,\n",
    "            'm_ncdm': 0.06,\n",
    "            'N_ur': 2.0328,\n",
    "            'z_max_pk': 3.,\n",
    "            'P_k_max_h/Mpc': 50.,\n",
    "            }\n",
    "\n",
    "prior = {  \n",
    "            'b1':{'type':'Uni','lim':[0,5]},\n",
    "            'b2':{'type':'Uni','lim':[-5,5]},\n",
    "            'bG2':{'type':'Fix','lim':.1},\n",
    "            'bGamma3':{'type':'Fix','lim':-.1},\n",
    "            'c1':{'type':'Fix','lim':0},\n",
    "            'c2':{'type':'Fix','lim':0},\n",
    "            'ch':{'type':'Fix','lim':0},\n",
    "            'Pshot':{'type':'Fix','lim':0},\n",
    "            'omega_cdm':{'type':'Fix','lim':omega_cdm_fid}, #[.11,.12]},\n",
    "            'omega_b': {'type':'Fix','lim':omega_b_fid},\n",
    "            'h': {'type':'Fix','lim':h_fid},\n",
    "            'n_s': {'type':'Fix','lim':n_s_fid},\n",
    "            'ln10^{10}A_s': {'type':'Fix','lim':lnA_s_fid},\n",
    "        }\n",
    "\n",
    "\n",
    "multipoles_to_use =     {\n",
    "                        }\n",
    "\n",
    "z_eff = .61\n",
    "\n",
    "mean_density = 3e-4\n",
    "\n",
    "name_save = 'test'\n",
    "params = {'prior':prior,'with_kernels':False,'cosmo_inference':False,'z_eff':z_eff,'cosmo_fid':cosmo_fid,\n",
    "            'multipoles_to_use':multipoles_to_use,'mean_density':mean_density,'window':window_file}"
   ]
  },
  {
   "cell_type": "code",
   "execution_count": 3,
   "id": "f83bef51",
   "metadata": {},
   "outputs": [],
   "source": [
    "cl = PrepareFit(estimator, multipoles, k_edges, cov_mock_nb)"
   ]
  },
  {
   "cell_type": "code",
   "execution_count": 4,
   "id": "975f2866",
   "metadata": {},
   "outputs": [],
   "source": [
    "cl.data_prep(name_file)"
   ]
  },
  {
   "cell_type": "code",
   "execution_count": 5,
   "id": "1a1cc3e1",
   "metadata": {},
   "outputs": [],
   "source": [
    "cl.cov_prep(cov_name=cov_file)"
   ]
  },
  {
   "cell_type": "code",
   "execution_count": 6,
   "id": "2e44e7e7",
   "metadata": {},
   "outputs": [
    {
     "ename": "NameError",
     "evalue": "name 'n_dim' is not defined",
     "output_type": "error",
     "traceback": [
      "\u001b[0;31m---------------------------------------------------------------------------\u001b[0m",
      "\u001b[0;31mNameError\u001b[0m                                 Traceback (most recent call last)",
      "\u001b[0;32m/tmp/ipykernel_2970484/2545059166.py\u001b[0m in \u001b[0;36m<cell line: 1>\u001b[0;34m()\u001b[0m\n\u001b[0;32m----> 1\u001b[0;31m \u001b[0mcl\u001b[0m\u001b[0;34m.\u001b[0m\u001b[0mfit\u001b[0m\u001b[0;34m(\u001b[0m\u001b[0mname_save\u001b[0m\u001b[0;34m,\u001b[0m \u001b[0mparams\u001b[0m\u001b[0;34m,\u001b[0m \u001b[0mpoco\u001b[0m\u001b[0;34m=\u001b[0m\u001b[0;32mTrue\u001b[0m\u001b[0;34m)\u001b[0m\u001b[0;34m\u001b[0m\u001b[0;34m\u001b[0m\u001b[0m\n\u001b[0m",
      "\u001b[0;32m~/bispectrum/fit/fit.py\u001b[0m in \u001b[0;36mfit\u001b[0;34m(self, name, params, jup, minuit, minos, poco)\u001b[0m\n\u001b[1;32m    885\u001b[0m \u001b[0;34m\u001b[0m\u001b[0m\n\u001b[1;32m    886\u001b[0m                     sampler = pc.Sampler(n_particles = n_particles,\n\u001b[0;32m--> 887\u001b[0;31m                                      \u001b[0mn_dim\u001b[0m \u001b[0;34m=\u001b[0m \u001b[0mndim\u001b[0m\u001b[0;34m,\u001b[0m\u001b[0;34m\u001b[0m\u001b[0;34m\u001b[0m\u001b[0m\n\u001b[0m\u001b[1;32m    888\u001b[0m                                      \u001b[0mlog_likelihood\u001b[0m \u001b[0;34m=\u001b[0m \u001b[0mloglike\u001b[0m\u001b[0;34m,\u001b[0m\u001b[0;34m\u001b[0m\u001b[0;34m\u001b[0m\u001b[0m\n\u001b[1;32m    889\u001b[0m                                      \u001b[0mlog_prior\u001b[0m \u001b[0;34m=\u001b[0m \u001b[0mlogprior\u001b[0m\u001b[0;34m,\u001b[0m\u001b[0;34m\u001b[0m\u001b[0;34m\u001b[0m\u001b[0m\n",
      "\u001b[0;31mNameError\u001b[0m: name 'n_dim' is not defined"
     ]
    }
   ],
   "source": [
    "cl.fit(name_save, params, poco=True, jup=True)"
   ]
  },
  {
   "cell_type": "code",
   "execution_count": null,
   "id": "19d0bf37",
   "metadata": {},
   "outputs": [],
   "source": []
  }
 ],
 "metadata": {
  "kernelspec": {
   "display_name": "Python (cpt)",
   "language": "python",
   "name": "cpt"
  },
  "language_info": {
   "codemirror_mode": {
    "name": "ipython",
    "version": 3
   },
   "file_extension": ".py",
   "mimetype": "text/x-python",
   "name": "python",
   "nbconvert_exporter": "python",
   "pygments_lexer": "ipython3",
   "version": "3.9.13"
  }
 },
 "nbformat": 4,
 "nbformat_minor": 5
}
