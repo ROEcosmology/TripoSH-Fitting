{
 "cells": [
  {
   "cell_type": "code",
   "execution_count": 1,
   "id": "4a515c40",
   "metadata": {},
   "outputs": [],
   "source": [
    "import os\n",
    "from classy import Class\n",
    "import numpy as np\n",
    "from matplotlib import pyplot as plt\n",
    "from fit import *\n",
    "import zeus"
   ]
  },
  {
   "cell_type": "code",
   "execution_count": 12,
   "id": "e99fa599",
   "metadata": {},
   "outputs": [],
   "source": [
    "estimator = ['Pk']\n",
    "multipoles = ['0']\n",
    "cov_mock_nb = 2048\n",
    "k_edges = {'Pk':{'0':[.01,.15]}}\n",
    "\n",
    "data_dir = '/home/rneveux/data/BOSS'\n",
    "name_file = {'Pk':{'0':os.path.join(data_dir,'BOSS_DR12_NGC_z3_mono.txt')}}\n",
    "cov_file = os.path.join(data_dir,'cov_2048_BOSS_DR12_NGC_z3_mono.npy')\n",
    "window_file = os.path.join(data_dir,'W_BOSS_DR12_NGC_z3_V6C_1_1_1_1_1_10_200_200_averaged_v1_mono.matrix')\n",
    "\n",
    "h_fid = .6736\n",
    "omega_b_fid = .02237\n",
    "omega_cdm_fid = .12\n",
    "n_s_fid = .9649\n",
    "lnA_s_fid = 3.044\n",
    "\n",
    "cosmo_fid = {\n",
    "            'output': 'mPk',\n",
    "            'h': h_fid,\n",
    "            'omega_b': omega_b_fid,\n",
    "            'omega_cdm': omega_cdm_fid,\n",
    "            'n_s': n_s_fid,\n",
    "            'ln10^{10}A_s': lnA_s_fid,\n",
    "            'tau_reio': 0.0544,\n",
    "            'N_ncdm': 1.,\n",
    "            'm_ncdm': 0.06,\n",
    "            'N_ur': 2.0328,\n",
    "            'z_max_pk': 3.,\n",
    "            'P_k_max_h/Mpc': 50.,\n",
    "            }\n",
    "\n",
    "prior = {  \n",
    "            'b1':{'type':'Uni','lim':[0,10]},\n",
    "            'b2':{'type':'Fix','lim':-1},\n",
    "            'bG2':{'type':'Fix','lim':.1},\n",
    "            'bGamma3':{'type':'Fix','lim':-.1},\n",
    "            'c1':{'type':'Fix','lim':0},\n",
    "            'c2':{'type':'Fix','lim':0},\n",
    "            'ch':{'type':'Fix','lim':0},\n",
    "            'Pshot':{'type':'Fix','lim':0},\n",
    "            'omega_cdm':{'type':'Fix','lim':omega_cdm_fid},#[.1,.2]},\n",
    "            'omega_b': {'type':'Fix','lim':omega_b_fid},\n",
    "            'h': {'type':'Fix','lim':h_fid},\n",
    "            'n_s': {'type':'Fix','lim':n_s_fid},\n",
    "            'ln10^{10}A_s': {'type':'Fix','lim':lnA_s_fid},\n",
    "        }\n",
    "\n",
    "multipoles_to_use =     {'Pk':'0'\n",
    "                        }\n",
    "\n",
    "z_eff = .61\n",
    "\n",
    "mean_density = 3e-4\n",
    "\n",
    "name_save = 'test'\n",
    "params = {'prior':prior,'with_kernels':False,'cosmo_inference':False,'z_eff':z_eff,'cosmo_fid':cosmo_fid,\n",
    "            'multipoles_to_use':multipoles_to_use,'mean_density':mean_density,'window':window_file}"
   ]
  },
  {
   "cell_type": "code",
   "execution_count": 13,
   "id": "f83bef51",
   "metadata": {},
   "outputs": [],
   "source": [
    "cl = PrepareFit(estimator, multipoles, k_edges, cov_mock_nb)"
   ]
  },
  {
   "cell_type": "code",
   "execution_count": 14,
   "id": "975f2866",
   "metadata": {},
   "outputs": [],
   "source": [
    "cl.data_prep(name_file)"
   ]
  },
  {
   "cell_type": "code",
   "execution_count": 15,
   "id": "1a1cc3e1",
   "metadata": {},
   "outputs": [],
   "source": [
    "cl.cov_prep(cov_name=cov_file)"
   ]
  },
  {
   "cell_type": "code",
   "execution_count": null,
   "id": "2e44e7e7",
   "metadata": {},
   "outputs": [
    {
     "name": "stderr",
     "output_type": "stream",
     "text": [
      "Initialising ensemble of 4 walkers...\n",
      "\n",
      "Sampling progress :   0%|                                                                                                                                                                            | 0/100000 [00:00<?, ?it/s]\u001b[A"
     ]
    }
   ],
   "source": [
    "cl.fit(name_save, params, jup=True)"
   ]
  },
  {
   "cell_type": "code",
   "execution_count": null,
   "id": "8a2eae15",
   "metadata": {},
   "outputs": [],
   "source": [
    "tau = cl.cb0.estimates\n",
    "R = cl.cb1.estimates\n",
    "\n",
    "N = np.arange(len(tau)) * 100\n",
    "\n",
    "\n",
    "plt.figure(figsize=(12,6))\n",
    "plt.subplot(121)\n",
    "\n",
    "plt.plot(N, tau, lw=2.5)\n",
    "plt.title('Integrated Autocorrelation Time', fontsize=14)\n",
    "plt.xlabel('Iterations', fontsize=14)\n",
    "plt.ylabel(r'$\\tau$', fontsize=14)\n",
    "\n",
    "\n",
    "plt.subplot(122)\n",
    "\n",
    "plt.plot(N, R, lw=2.5)\n",
    "plt.title('Split-R Gelman-Rubin Statistic', fontsize=14)\n",
    "plt.xlabel('Iterations', fontsize=14)\n",
    "plt.ylabel(r'$R$', fontsize=14)\n",
    "\n",
    "plt.tight_layout()\n",
    "plt.show()"
   ]
  },
  {
   "cell_type": "code",
   "execution_count": null,
   "id": "7c4c5451",
   "metadata": {},
   "outputs": [],
   "source": [
    "samples = cl.sampler.get_chain()\n",
    "\n",
    "plt.figure(figsize=(12,5))\n",
    "plt.plot(samples[:,:,0],alpha=0.25)\n",
    "plt.xlabel('Iterations', fontsize=14)\n",
    "plt.ylabel(r'$x_{1}$', fontsize=14)\n",
    "plt.show()"
   ]
  },
  {
   "cell_type": "code",
   "execution_count": null,
   "id": "66eba469",
   "metadata": {},
   "outputs": [],
   "source": [
    "chain = cl.sampler.get_chain(flat=True, discard=0.5)\n",
    "print(np.mean(chain))\n",
    "\n",
    "plt.figure(figsize=(8,6))\n",
    "plt.hist(chain[:,0], 50)\n",
    "plt.gca().set_yticks([])\n",
    "plt.xlabel(r\"$x_{1}$\", fontsize=14)\n",
    "plt.ylabel(r\"$p(x_{1})$\", fontsize=14)\n",
    "plt.show()"
   ]
  },
  {
   "cell_type": "code",
   "execution_count": null,
   "id": "0933ac1d",
   "metadata": {},
   "outputs": [],
   "source": [
    "chain = cl.sampler.get_chain(flat=True, discard=0.5)\n",
    "print(np.mean(chain))\n",
    "\n",
    "plt.figure(figsize=(8,6))\n",
    "plt.hist(chain[:,0], 50)\n",
    "plt.gca().set_yticks([])\n",
    "plt.xlabel(r\"$x_{1}$\", fontsize=14)\n",
    "plt.ylabel(r\"$p(x_{1})$\", fontsize=14)\n",
    "plt.show()"
   ]
  },
  {
   "cell_type": "code",
   "execution_count": null,
   "id": "e773751b",
   "metadata": {},
   "outputs": [],
   "source": [
    "pk_model = cl.params['class'].pk_gg_l0(2.07,0,0,0,0,0,0)"
   ]
  },
  {
   "cell_type": "code",
   "execution_count": null,
   "id": "179dcb18",
   "metadata": {},
   "outputs": [],
   "source": [
    "pk_model"
   ]
  },
  {
   "cell_type": "code",
   "execution_count": null,
   "id": "50a36db3",
   "metadata": {},
   "outputs": [],
   "source": [
    "f_pk = interpolate.interp1d(cl.full_data['Pk']['0'][:,0], pk_model, fill_value=\"extrapolate\", kind=\"cubic\")\n",
    "pk_model = f_pk(cl.params['k_fit']['Pk']['0'])"
   ]
  },
  {
   "cell_type": "code",
   "execution_count": null,
   "id": "3f81e50c",
   "metadata": {},
   "outputs": [],
   "source": [
    "plt.errorbar(cl.k_vec,cl.k_vec*cl.data_vec,cl.k_vec*np.sqrt(np.diag(cl.cov)))\n",
    "plt.plot(cl.k_vec,cl.k_vec*pk_model)"
   ]
  },
  {
   "cell_type": "code",
   "execution_count": null,
   "id": "513038da",
   "metadata": {},
   "outputs": [],
   "source": [
    "cov = np.load(cov_file,allow_pickle=True).item()"
   ]
  },
  {
   "cell_type": "code",
   "execution_count": null,
   "id": "aec72ab5",
   "metadata": {},
   "outputs": [],
   "source": [
    "cov['cov'].shape"
   ]
  },
  {
   "cell_type": "code",
   "execution_count": null,
   "id": "0a852dfc",
   "metadata": {},
   "outputs": [],
   "source": [
    "cov_file_full = os.path.join(data_dir,'cov_2048_BOSS_DR12_NGC_z3.npy')\n",
    "cov_full = np.load(cov_file_full,allow_pickle=True).item()\n",
    "cov_full['cov'].shape"
   ]
  },
  {
   "cell_type": "code",
   "execution_count": null,
   "id": "6ca79938",
   "metadata": {},
   "outputs": [],
   "source": [
    "dat = np.loadtxt(os.path.join(data_dir,'BOSS_DR12_NGC_z3.txt'))"
   ]
  },
  {
   "cell_type": "code",
   "execution_count": null,
   "id": "b20d971b",
   "metadata": {},
   "outputs": [],
   "source": [
    "dat.shape"
   ]
  },
  {
   "cell_type": "code",
   "execution_count": null,
   "id": "dbdb7c40",
   "metadata": {},
   "outputs": [],
   "source": [
    "chain_b1 = [np.load(f'/home/rneveux/fit_test/BOSS_DR12_NGC_z3_pk_mono_b1_chain_{i}.npy') for i in range(8)]\n",
    "chain_b1 = np.concatenate(chain_b1)"
   ]
  },
  {
   "cell_type": "code",
   "execution_count": null,
   "id": "bab9c7a6",
   "metadata": {},
   "outputs": [],
   "source": [
    "print(np.mean(chain_b1))\n",
    "print(np.std(chain_b1))\n",
    "print(len(chain_b1))\n",
    "\n",
    "plt.figure(figsize=(8,6))\n",
    "plt.hist(chain_b1[:,0], 40,histtype='step', density=True)\n",
    "plt.gca().set_yticks([])\n",
    "plt.xlabel(r\"$b_{1}$\", fontsize=14)\n",
    "plt.ylabel(r\"$p(b_{1})$\", fontsize=14)\n",
    "plt.show()"
   ]
  },
  {
   "cell_type": "code",
   "execution_count": null,
   "id": "554c8256",
   "metadata": {},
   "outputs": [],
   "source": [
    "chain_biases = [np.load(f'/home/rneveux/fit_test/BOSS_DR12_NGC_z3_pk_mono_biases_chain_{i}.npy') for i in range(8)]\n",
    "chain_biases = np.concatenate(chain_biases)"
   ]
  },
  {
   "cell_type": "code",
   "execution_count": null,
   "id": "401ed261",
   "metadata": {},
   "outputs": [],
   "source": [
    "print(np.mean(chain_biases,axis=0))\n",
    "print(np.std(chain_biases,axis=0))\n",
    "print(len(chain_biases))\n",
    "\n",
    "for i,b in enumerate(['b1','b2','bG2','bGamma3','c0','c1','c2','ch','Pshot']):\n",
    "    plt.figure(figsize=(8,6))\n",
    "    plt.hist(chain_biases[:,i], 40,histtype='step', density=True)\n",
    "    plt.gca().set_yticks([])\n",
    "    plt.xlabel(b, fontsize=14)\n",
    "    plt.ylabel(f\"p({b})\", fontsize=14)\n",
    "    plt.show()"
   ]
  },
  {
   "cell_type": "code",
   "execution_count": null,
   "id": "510ba173",
   "metadata": {},
   "outputs": [],
   "source": [
    "fig, axes = zeus.cornerplot(chain_biases[::100], size=(16,16))"
   ]
  },
  {
   "cell_type": "code",
   "execution_count": null,
   "id": "dac54a79",
   "metadata": {},
   "outputs": [],
   "source": [
    "c = Class()\n",
    "c.set(cosmo_fid)\n",
    "c.compute()"
   ]
  },
  {
   "cell_type": "code",
   "execution_count": null,
   "id": "0ec6bb5e",
   "metadata": {},
   "outputs": [],
   "source": [
    "c.struct_cleanup()"
   ]
  },
  {
   "cell_type": "code",
   "execution_count": null,
   "id": "7cce1efb",
   "metadata": {},
   "outputs": [],
   "source": [
    "c.scale_independent_growth_factor_f(.61)"
   ]
  },
  {
   "cell_type": "code",
   "execution_count": null,
   "id": "dbbeeee2",
   "metadata": {},
   "outputs": [],
   "source": []
  }
 ],
 "metadata": {
  "kernelspec": {
   "display_name": "Python (cpt)",
   "language": "python",
   "name": "cpt"
  },
  "language_info": {
   "codemirror_mode": {
    "name": "ipython",
    "version": 3
   },
   "file_extension": ".py",
   "mimetype": "text/x-python",
   "name": "python",
   "nbconvert_exporter": "python",
   "pygments_lexer": "ipython3",
   "version": "3.9.7"
  }
 },
 "nbformat": 4,
 "nbformat_minor": 5
}
